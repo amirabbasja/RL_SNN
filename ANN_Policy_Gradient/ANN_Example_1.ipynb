{
 "cells": [
  {
   "cell_type": "markdown",
   "metadata": {},
   "source": [
    "ANN using gradient policy for training (Training with single agent)"
   ]
  },
  {
   "cell_type": "code",
   "execution_count": 1,
   "metadata": {},
   "outputs": [],
   "source": [
    "# Imports\n",
    "import torch\n",
    "import torch.nn as nn\n",
    "import torch.optim as optim\n",
    "import torch.nn.functional as F\n",
    "import torch.distributions as distributions\n",
    "import numpy as np\n",
    "import gymnasium as gym  \n",
    "import random"
   ]
  },
  {
   "cell_type": "code",
   "execution_count": null,
   "metadata": {},
   "outputs": [],
   "source": [
    "# Making the gymnasium environment\n",
    "env = gym.make(\"CartPole-v1\")\n",
    "\n",
    "# Define the network\n",
    "class policyNetwork(nn.Module):\n",
    "    def __init__(self, inputDim, hiddenDim, outDim, dropOut):\n",
    "        super().__init__()\n",
    "        self.layer1 = nn.Linear(inputDim, hiddenDim)\n",
    "        self.layer2 = nn.Linear(hiddenDim, outDim)\n",
    "        self.dropout = nn.Dropout(dropOut)\n",
    "    \n",
    "    def forward(self, x):\n",
    "        x = self.layer1(x)\n",
    "        x = self.dropout(x)\n",
    "        x = F.relu(x)\n",
    "        x = self.layer2(x)\n",
    "        return x\n",
    "\n",
    "# Calculate the cumulative returns in a specific trajectory\n",
    "def cumulativeReturn(trajectoryRewards, gamma):\n",
    "    # gamma is the discount factor\n",
    "    \n",
    "    returns = []\n",
    "    __R = 0\n",
    "    \n",
    "    for reward in reversed(trajectoryRewards):\n",
    "        __R = reward + gamma * __R\n",
    "        returns.insert(0, __R)\n",
    "    \n",
    "    returns = torch.tensor(returns)\n",
    "    \n",
    "    # Normalize the returns\n",
    "    return (returns - returns.mean())/returns.std()\n",
    "\n",
    "def forwardPass(env, policyNetwork, gamma):\n",
    "    log_probActions = []\n",
    "    rewards = []\n",
    "    done = False\n",
    "    episodeReward = 0\n",
    "    \n",
    "    # Setup the environment\n",
    "    policyNetwork.train()\n",
    "    initialSeed = random.randint(1,1_000_000_000) # The random seed that determines the episode's I.C.\n",
    "    state, _ = env.reset(seed = initialSeed)\n",
    "    \n",
    "    while not done:\n",
    "        actionPred = policyNetwork(torch.Tensor(state).unsqueeze(0))\n",
    "        actionProb = F.softmax(actionPred, dim = -1)\n",
    "        dist = distributions.Categorical(actionProb)\n",
    "        action = dist.sample()\n",
    "        \n",
    "        state, reward, terminated, truncated, info = env.step(action.item())\n",
    "        done = terminated or truncated\n",
    "        \n",
    "        log_probActions.append(dist.log_prob(action))\n",
    "        rewards.append(reward)\n",
    "        episodeReward += reward\n",
    "        \n",
    "    log_probActions = torch.cat(log_probActions)\n",
    "    trajectoryRewards = cumulativeReturn(rewards, gamma)\n",
    "    \n",
    "    return episodeReward, trajectoryRewards, log_probActions\n",
    "\n",
    "def computeLoss(log_probActions, trajectoryRewards):\n",
    "    return -(log_probActions * trajectoryRewards).sum()\n",
    "\n",
    "def updatePolicyNetwork(log_probActions, trajectoryRewards, optimizer):\n",
    "    __loss = computeLoss(log_probActions, trajectoryRewards.detach())\n",
    "    \n",
    "    optimizer.zero_grad()\n",
    "    __loss.backward()\n",
    "    optimizer.step()"
   ]
  },
  {
   "cell_type": "code",
   "execution_count": 12,
   "metadata": {},
   "outputs": [
    {
     "name": "stdout",
     "output_type": "stream",
     "text": [
      "| Episode:   0 | Mean Rewards:  12.0 |\n"
     ]
    }
   ],
   "source": [
    "# Hyperparameters\n",
    "MAX_EPOCHS = 500\n",
    "DISCOUNT_FACTOR = 0.99\n",
    "N_TRIALS = 25\n",
    "REWARD_THRESHOLD = 475\n",
    "PRINT_INTERVAL = 10\n",
    "INPUT_DIM = env.observation_space.shape[0]\n",
    "HIDDEN_DIM = 128\n",
    "OUTPUT_DIM = env.action_space.n\n",
    "DROPOUT = 0.5\n",
    "\n",
    "episodeReturns = []\n",
    "policy = policyNetwork(INPUT_DIM, HIDDEN_DIM, OUTPUT_DIM, DROPOUT)\n",
    "optimizer = optim.Adam(policy.parameters(), lr = 0.01)\n",
    "\n",
    "for episode in range(MAX_EPOCHS):\n",
    "    episodeReward, trajectoryRewards, log_probActions = forwardPass(env, policy, DISCOUNT_FACTOR)\n",
    "    updatePolicyNetwork(log_probActions, trajectoryRewards, optimizer)\n",
    "    \n",
    "    episodeReturns.append(episodeReward)\n",
    "    mean_episode_return = np.mean(episodeReturns[-N_TRIALS:])\n",
    "\n",
    "    if episode % PRINT_INTERVAL == 0:\n",
    "        print(f'| Episode: {episode:3} | Mean Rewards: {mean_episode_return:5.1f} |')\n",
    "\n",
    "    if mean_episode_return >= REWARD_THRESHOLD:\n",
    "        print(f'Reached reward threshold in {episode} episodes')\n",
    "        break\n",
    "    \n",
    "    break\n",
    "    \n"
   ]
  }
 ],
 "metadata": {
  "kernelspec": {
   "display_name": ".MotherVenv",
   "language": "python",
   "name": "python3"
  },
  "language_info": {
   "codemirror_mode": {
    "name": "ipython",
    "version": 3
   },
   "file_extension": ".py",
   "mimetype": "text/x-python",
   "name": "python",
   "nbconvert_exporter": "python",
   "pygments_lexer": "ipython3",
   "version": "3.9.7"
  }
 },
 "nbformat": 4,
 "nbformat_minor": 2
}
